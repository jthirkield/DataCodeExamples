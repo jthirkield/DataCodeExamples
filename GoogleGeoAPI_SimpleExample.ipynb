{
 "cells": [
  {
   "cell_type": "code",
   "execution_count": 1,
   "metadata": {
    "collapsed": true
   },
   "outputs": [],
   "source": [
    "# this loads the built-in Python requests library\n",
    "#Which allows you to send queries to the Internet and other stuff\n",
    "import requests\n"
   ]
  },
  {
   "cell_type": "markdown",
   "metadata": {},
   "source": [
    "GOOGLE'S GEOCODING API:\n",
    "https://developers.google.com/maps/documentation/geocoding"
   ]
  },
  {
   "cell_type": "code",
   "execution_count": 2,
   "metadata": {
    "collapsed": true
   },
   "outputs": [],
   "source": [
    "#This loads The built-in Python OS libary which speaks to your operating system\n",
    "#And in this case we use it to retrieve a hidden environmental variable\n",
    "#The YouTube link tells you about how those work.\n",
    "import os\n",
    "api_key = os.environ['GMAP_API']\n",
    "#https://www.youtube.com/watch?v=5iWhQWVXosU"
   ]
  },
  {
   "cell_type": "code",
   "execution_count": 3,
   "metadata": {
    "collapsed": true
   },
   "outputs": [],
   "source": [
    "#I am setting up a couple variables to pass into requests' get() method\n",
    "#The variable r is an object that will contain the results of the request\n",
    "#and lots of information about the request\n",
    "url = 'https://maps.googleapis.com/maps/api/geocode/json'\n",
    "keys = {'address': '2950 Broadway, New York, NY', 'key': api_key}\n",
    "r = requests.get(url,params=keys)"
   ]
  },
  {
   "cell_type": "code",
   "execution_count": 4,
   "metadata": {
    "collapsed": true
   },
   "outputs": [],
   "source": [
    "#This pulls out the json response from r\n",
    "result_dic = r.json()"
   ]
  },
  {
   "cell_type": "code",
   "execution_count": 5,
   "metadata": {},
   "outputs": [
    {
     "data": {
      "text/plain": [
       "{'results': [{'address_components': [{'long_name': '2950',\n",
       "     'short_name': '2950',\n",
       "     'types': ['street_number']},\n",
       "    {'long_name': 'Broadway', 'short_name': 'Broadway', 'types': ['route']},\n",
       "    {'long_name': 'Manhattan',\n",
       "     'short_name': 'Manhattan',\n",
       "     'types': ['political', 'sublocality', 'sublocality_level_1']},\n",
       "    {'long_name': 'New York',\n",
       "     'short_name': 'New York',\n",
       "     'types': ['locality', 'political']},\n",
       "    {'long_name': 'New York County',\n",
       "     'short_name': 'New York County',\n",
       "     'types': ['administrative_area_level_2', 'political']},\n",
       "    {'long_name': 'New York',\n",
       "     'short_name': 'NY',\n",
       "     'types': ['administrative_area_level_1', 'political']},\n",
       "    {'long_name': 'United States',\n",
       "     'short_name': 'US',\n",
       "     'types': ['country', 'political']},\n",
       "    {'long_name': '10027', 'short_name': '10027', 'types': ['postal_code']},\n",
       "    {'long_name': '7060',\n",
       "     'short_name': '7060',\n",
       "     'types': ['postal_code_suffix']}],\n",
       "   'formatted_address': '2950 Broadway, New York, NY 10027, USA',\n",
       "   'geometry': {'location': {'lat': 40.8076308, 'lng': -73.9636318},\n",
       "    'location_type': 'ROOFTOP',\n",
       "    'viewport': {'northeast': {'lat': 40.8089797802915,\n",
       "      'lng': -73.9622828197085},\n",
       "     'southwest': {'lat': 40.8062818197085, 'lng': -73.96498078029151}}},\n",
       "   'place_id': 'ChIJyQ3Tlj72wokREkZCjslS1Rw',\n",
       "   'plus_code': {'compound_code': 'R25P+3G New York, United States',\n",
       "    'global_code': '87G8R25P+3G'},\n",
       "   'types': ['street_address']}],\n",
       " 'status': 'OK'}"
      ]
     },
     "execution_count": 5,
     "metadata": {},
     "output_type": "execute_result"
    }
   ],
   "source": [
    "#Viewing the JSON result\n",
    "result_dic"
   ]
  },
  {
   "cell_type": "code",
   "execution_count": 9,
   "metadata": {},
   "outputs": [
    {
     "data": {
      "text/plain": [
       "[{'long_name': '2950', 'short_name': '2950', 'types': ['street_number']},\n",
       " {'long_name': 'Broadway', 'short_name': 'Broadway', 'types': ['route']},\n",
       " {'long_name': 'Manhattan',\n",
       "  'short_name': 'Manhattan',\n",
       "  'types': ['political', 'sublocality', 'sublocality_level_1']},\n",
       " {'long_name': 'New York',\n",
       "  'short_name': 'New York',\n",
       "  'types': ['locality', 'political']},\n",
       " {'long_name': 'New York County',\n",
       "  'short_name': 'New York County',\n",
       "  'types': ['administrative_area_level_2', 'political']},\n",
       " {'long_name': 'New York',\n",
       "  'short_name': 'NY',\n",
       "  'types': ['administrative_area_level_1', 'political']},\n",
       " {'long_name': 'United States',\n",
       "  'short_name': 'US',\n",
       "  'types': ['country', 'political']},\n",
       " {'long_name': '10027', 'short_name': '10027', 'types': ['postal_code']},\n",
       " {'long_name': '7060', 'short_name': '7060', 'types': ['postal_code_suffix']}]"
      ]
     },
     "execution_count": 9,
     "metadata": {},
     "output_type": "execute_result"
    }
   ],
   "source": [
    "#Viewing parts of that result\n",
    "result_dic['results'][0]['address_components']"
   ]
  },
  {
   "cell_type": "code",
   "execution_count": null,
   "metadata": {
    "collapsed": true
   },
   "outputs": [],
   "source": [
    "result_dic['results'][0]"
   ]
  },
  {
   "cell_type": "code",
   "execution_count": 10,
   "metadata": {},
   "outputs": [
    {
     "data": {
      "text/plain": [
       "{'location': {'lat': 40.8076308, 'lng': -73.9636318},\n",
       " 'location_type': 'ROOFTOP',\n",
       " 'viewport': {'northeast': {'lat': 40.8089797802915, 'lng': -73.9622828197085},\n",
       "  'southwest': {'lat': 40.8062818197085, 'lng': -73.96498078029151}}}"
      ]
     },
     "execution_count": 10,
     "metadata": {},
     "output_type": "execute_result"
    }
   ],
   "source": [
    "result_dic['results'][0]['geometry']"
   ]
  },
  {
   "cell_type": "code",
   "execution_count": 11,
   "metadata": {},
   "outputs": [
    {
     "name": "stdout",
     "output_type": "stream",
     "text": [
      "Washington, DC {'lat': 38.9071923, 'lng': -77.0368707}\n",
      "New York, NY {'lat': 40.7127753, 'lng': -74.0059728}\n",
      "Boston, MA {'lat': 42.3600825, 'lng': -71.0588801}\n",
      "San Francisco, CA {'lat': 37.7749295, 'lng': -122.4194155}\n",
      "Yes!\n"
     ]
    }
   ],
   "source": [
    "#Here is a loop that goes to different addresses\n",
    "#And gathers up the information we want from the Google API requests\n",
    "#time.sleep is putting in a one second pause between requests\n",
    "#So that we don't overload Google's server (You want to do this if you're getting a lot of stuff)\n",
    "#Because APIs Often have limits on how many times you can send requests or how often\n",
    "\n",
    "#this \"list\" (arrays are called lists in Python) gathers the results\n",
    "results_array = []\n",
    "import time\n",
    "##Importing time allows me to slow down my loop\n",
    "\n",
    "#Here are my \"address\"--More detailed addresses work better\n",
    "placeNames = ['Washington, DC','New York, NY','Boston, MA','San Francisco, CA']\n",
    "\n",
    "#a loop!!! The indent is everything\n",
    "for place in placeNames:\n",
    "    url = 'https://maps.googleapis.com/maps/api/geocode/json'\n",
    "    keys = {'address': place, 'key': api_key}\n",
    "    r = requests.get(url,params=keys)\n",
    "    result_dic = r.json()\n",
    "    print(place, result_dic['results'][0]['geometry']['location'])\n",
    "    #better format for results, a dictionary (object) with address and geometry props\n",
    "    each_result = {}\n",
    "    each_result['address'] = place\n",
    "    #make your geometry geojson friendly--make an array of [lng,lat] coordinates\n",
    "    point_geo = []\n",
    "    point_geo.append(result_dic['results'][0]['geometry']['location']['lng'])\n",
    "    point_geo.append(result_dic['results'][0]['geometry']['location']['lat'])\n",
    "    each_result['geometry'] = point_geo\n",
    "    results_array.append(each_result)\n",
    "    time.sleep(1)\n",
    "#An unnecessary if-statement just for fun when the loop is done!\n",
    "#In Python you can do results_array.length its len(results_array) weird...\n",
    "if (len(results_array)> 2):\n",
    "    print(\"Yes!\")\n",
    "\n",
    "#Print() is a way of just getting some feedback while you're running your code\n",
    "#it's kind of like consule.log()"
   ]
  },
  {
   "cell_type": "code",
   "execution_count": 12,
   "metadata": {},
   "outputs": [
    {
     "data": {
      "text/plain": [
       "[{'address': 'Washington, DC', 'geometry': [-77.0368707, 38.9071923]},\n",
       " {'address': 'New York, NY', 'geometry': [-74.0059728, 40.7127753]},\n",
       " {'address': 'Boston, MA', 'geometry': [-71.0588801, 42.3600825]},\n",
       " {'address': 'San Francisco, CA', 'geometry': [-122.4194155, 37.7749295]}]"
      ]
     },
     "execution_count": 12,
     "metadata": {},
     "output_type": "execute_result"
    }
   ],
   "source": [
    "results_array"
   ]
  },
  {
   "cell_type": "code",
   "execution_count": 10,
   "metadata": {
    "collapsed": true
   },
   "outputs": [],
   "source": [
    "#This creates a brand-new json file and writes that file to the current folder you are in\n",
    "#Beware: Unlike front-end JavaScript, Python can make changes to your files on your computer\n",
    "#If you have a file with the same name in the same folder it will be overwritten here.\n",
    "import json\n",
    "with open('result1.json', 'w') as fp:\n",
    "    json.dump(results_array, fp)"
   ]
  },
  {
   "cell_type": "code",
   "execution_count": null,
   "metadata": {
    "collapsed": true
   },
   "outputs": [],
   "source": []
  }
 ],
 "metadata": {
  "kernelspec": {
   "display_name": "Python 3",
   "language": "python",
   "name": "python3"
  },
  "language_info": {
   "codemirror_mode": {
    "name": "ipython",
    "version": 3
   },
   "file_extension": ".py",
   "mimetype": "text/x-python",
   "name": "python",
   "nbconvert_exporter": "python",
   "pygments_lexer": "ipython3",
   "version": "3.6.5"
  }
 },
 "nbformat": 4,
 "nbformat_minor": 2
}
